{
  "nbformat": 4,
  "nbformat_minor": 0,
  "metadata": {
    "colab": {
      "name": "Innoplexus Sentiment Analysis.ipynb",
      "version": "0.3.2",
      "provenance": [],
      "include_colab_link": true
    },
    "kernelspec": {
      "name": "python3",
      "display_name": "Python 3"
    }
  },
  "cells": [
    {
      "cell_type": "markdown",
      "metadata": {
        "id": "view-in-github",
        "colab_type": "text"
      },
      "source": [
        "<a href=\"https://colab.research.google.com/github/impratiksingh/Testing/blob/master/Innoplexus_Sentiment_Analysis.ipynb\" target=\"_parent\"><img src=\"https://colab.research.google.com/assets/colab-badge.svg\" alt=\"Open In Colab\"/></a>"
      ]
    },
    {
      "cell_type": "code",
      "metadata": {
        "id": "ALP-iB0cBgc-",
        "colab_type": "code",
        "colab": {}
      },
      "source": [
        "# Imports\n",
        "import pandas as pd\n",
        "\n",
        "import spacy\n",
        "nlp=spacy.load('en')\n",
        "import itertools as it\n",
        "\n",
        "\n",
        "from sklearn.feature_extraction.text import CountVectorizer"
      ],
      "execution_count": 0,
      "outputs": []
    },
    {
      "cell_type": "code",
      "metadata": {
        "id": "338da-mkCZ06",
        "colab_type": "code",
        "colab": {}
      },
      "source": [
        "train=pd.read_csv('train.csv')\n",
        "test=pd.read_csv('test.csv')"
      ],
      "execution_count": 0,
      "outputs": []
    },
    {
      "cell_type": "code",
      "metadata": {
        "id": "1Y8hRTmMCZyL",
        "colab_type": "code",
        "colab": {
          "base_uri": "https://localhost:8080/",
          "height": 195
        },
        "outputId": "7572468b-6442-4e84-f76d-7058c14d8836"
      },
      "source": [
        "train.head()"
      ],
      "execution_count": 5,
      "outputs": [
        {
          "output_type": "execute_result",
          "data": {
            "text/html": [
              "<div>\n",
              "<style scoped>\n",
              "    .dataframe tbody tr th:only-of-type {\n",
              "        vertical-align: middle;\n",
              "    }\n",
              "\n",
              "    .dataframe tbody tr th {\n",
              "        vertical-align: top;\n",
              "    }\n",
              "\n",
              "    .dataframe thead th {\n",
              "        text-align: right;\n",
              "    }\n",
              "</style>\n",
              "<table border=\"1\" class=\"dataframe\">\n",
              "  <thead>\n",
              "    <tr style=\"text-align: right;\">\n",
              "      <th></th>\n",
              "      <th>unique_hash</th>\n",
              "      <th>text</th>\n",
              "      <th>drug</th>\n",
              "      <th>sentiment</th>\n",
              "    </tr>\n",
              "  </thead>\n",
              "  <tbody>\n",
              "    <tr>\n",
              "      <th>0</th>\n",
              "      <td>2e180be4c9214c1f5ab51fd8cc32bc80c9f612e0</td>\n",
              "      <td>Autoimmune diseases tend to come in clusters. ...</td>\n",
              "      <td>gilenya</td>\n",
              "      <td>2</td>\n",
              "    </tr>\n",
              "    <tr>\n",
              "      <th>1</th>\n",
              "      <td>9eba8f80e7e20f3a2f48685530748fbfa95943e4</td>\n",
              "      <td>I can completely understand why you’d want to ...</td>\n",
              "      <td>gilenya</td>\n",
              "      <td>2</td>\n",
              "    </tr>\n",
              "    <tr>\n",
              "      <th>2</th>\n",
              "      <td>fe809672251f6bd0d986e00380f48d047c7e7b76</td>\n",
              "      <td>Interesting that it only targets S1P-1/5 recep...</td>\n",
              "      <td>fingolimod</td>\n",
              "      <td>2</td>\n",
              "    </tr>\n",
              "    <tr>\n",
              "      <th>3</th>\n",
              "      <td>bd22104dfa9ec80db4099523e03fae7a52735eb6</td>\n",
              "      <td>Very interesting, grand merci. Now I wonder wh...</td>\n",
              "      <td>ocrevus</td>\n",
              "      <td>2</td>\n",
              "    </tr>\n",
              "    <tr>\n",
              "      <th>4</th>\n",
              "      <td>b227688381f9b25e5b65109dd00f7f895e838249</td>\n",
              "      <td>Hi everybody, My latest MRI results for Brain ...</td>\n",
              "      <td>gilenya</td>\n",
              "      <td>1</td>\n",
              "    </tr>\n",
              "  </tbody>\n",
              "</table>\n",
              "</div>"
            ],
            "text/plain": [
              "                                unique_hash  ... sentiment\n",
              "0  2e180be4c9214c1f5ab51fd8cc32bc80c9f612e0  ...         2\n",
              "1  9eba8f80e7e20f3a2f48685530748fbfa95943e4  ...         2\n",
              "2  fe809672251f6bd0d986e00380f48d047c7e7b76  ...         2\n",
              "3  bd22104dfa9ec80db4099523e03fae7a52735eb6  ...         2\n",
              "4  b227688381f9b25e5b65109dd00f7f895e838249  ...         1\n",
              "\n",
              "[5 rows x 4 columns]"
            ]
          },
          "metadata": {
            "tags": []
          },
          "execution_count": 5
        }
      ]
    },
    {
      "cell_type": "code",
      "metadata": {
        "id": "l5vZRzGSCZvq",
        "colab_type": "code",
        "colab": {
          "base_uri": "https://localhost:8080/",
          "height": 84
        },
        "outputId": "16aea762-ba7e-4fb0-dcf3-01936c32ff5b"
      },
      "source": [
        "# Class distribution\n",
        "train.sentiment.value_counts()"
      ],
      "execution_count": 6,
      "outputs": [
        {
          "output_type": "execute_result",
          "data": {
            "text/plain": [
              "2    3825\n",
              "1     837\n",
              "0     617\n",
              "Name: sentiment, dtype: int64"
            ]
          },
          "metadata": {
            "tags": []
          },
          "execution_count": 6
        }
      ]
    },
    {
      "cell_type": "code",
      "metadata": {
        "id": "pjkFROe0CZs5",
        "colab_type": "code",
        "colab": {
          "base_uri": "https://localhost:8080/",
          "height": 101
        },
        "outputId": "b80a43f3-4fd8-4f5b-e634-aea3e0e7ef7d"
      },
      "source": [
        "# Null identification\n",
        "train.isnull().sum()"
      ],
      "execution_count": 7,
      "outputs": [
        {
          "output_type": "execute_result",
          "data": {
            "text/plain": [
              "unique_hash    0\n",
              "text           0\n",
              "drug           0\n",
              "sentiment      0\n",
              "dtype: int64"
            ]
          },
          "metadata": {
            "tags": []
          },
          "execution_count": 7
        }
      ]
    },
    {
      "cell_type": "markdown",
      "metadata": {
        "id": "UE1OKtPHCm4y",
        "colab_type": "text"
      },
      "source": [
        "**Modern NLP Start**"
      ]
    },
    {
      "cell_type": "code",
      "metadata": {
        "id": "YVj5p4i1CZnq",
        "colab_type": "code",
        "colab": {
          "base_uri": "https://localhost:8080/",
          "height": 34
        },
        "outputId": "c1e8572c-b184-413d-84d4-0b41e75d2562"
      },
      "source": [
        "train.loc[49,'drug']"
      ],
      "execution_count": 8,
      "outputs": [
        {
          "output_type": "execute_result",
          "data": {
            "text/plain": [
              "'nivolumab'"
            ]
          },
          "metadata": {
            "tags": []
          },
          "execution_count": 8
        }
      ]
    },
    {
      "cell_type": "code",
      "metadata": {
        "id": "gLjy0fS8CZkz",
        "colab_type": "code",
        "colab": {
          "base_uri": "https://localhost:8080/",
          "height": 54
        },
        "outputId": "d01880bd-2532-4e4b-d9b3-fc9b4a876b2b"
      },
      "source": [
        "sample_review=train.loc[49,'text']\n",
        "sample_review"
      ],
      "execution_count": 9,
      "outputs": [
        {
          "output_type": "execute_result",
          "data": {
            "text/plain": [
              "'The first quarter of 2016 has been a busy period for the Medical Oncology Group of Australia. A new group of trainees has commenced speciality training in medical oncology and those trainees who recently completed their training, have been awarded fellowships and are moving ahead with their career plans. MOGA membership continues to grow and currently there are 172 trainees and 450 consultant members. Dr Zarnie Lwin, Deputy Chair and I have been progressing the new Workforce Study, having completed a pilot project in late 2015. An extensive online survey will be distributed to all MOGA members in the coming months to gather important new data on our workforce to assist with long term services, facilities and workforce planning.  Oncology drugs and treatments The Oncology Drugs Group, Chaired by Dr Deme Karikios, continues to make good progress in advocating for access to oncology drugs, recording a number of notable achievements. Late in 2015, in response to advice from MOGA breast cancer experts, the Pharmaceutical Benefits Advisory Committee (PBAC) amended the Pharmaceutical Benefits Schedule listing of medicines for HER2 positive metastatic breast cancer and recommended a change to the listing of lapatinib for HER2 positive metastatic breast cancer. The restriction for trastuzumab emtansine will be amended to allow patients to access following treatment with lapatinib. PBAC also recommended that the restriction wording for nab\\xad paclitaxel be updated to be consistent with the restriction for trastuzumab. The group has also made submissions for priority approvals for a number of oncology drugs considered at the PBAC March meeting, including: nivolumab in non-small cell lung cancer; bevacizumab in cervical cancer; lenvatinib in thyroid cancer; olaparib in ovarian cancer; and tamoxifen in breast cancer prevention. At the same time, the group indicated support for submissions on: cetuximab in metastatic head and neck cancer; nintedanib in non-small cell lung cancer; and vismodegib in basal cell carcinoma. These listings will address important areas of unmet need for cancer patients, those at increased risk of cancer, and their clinicians. The listings are supported by strong randomised clinical trial data and are in keeping with international clinical best practice. A successful submission supporting the change to the listing for tamoxifen for the primary prevention of breast cancer in patients with moderate or high risk has resulted from a unique collaboration. In 2011, MOGA tabled a position paper prepared by leading Australian breast cancer specialist, Prof Kelly-Anne Phillips – ‘The use of tamoxifen for the prevention of breast cancer: implications of recent research’. This paper presented strong research data supporting approval and listing of tamoxifen through the Therapeutics Goods Administration and the PBAC and its placement on the Pharmaceutical Benefits Scheme for reduction in the risk of invasive breast cancer in women at moderate or high risk. Since then, Prof Phillips and Prof Fran Boyle, Chair, MOGA Breast Cancer Group and ANZ Breast Cancer Trials Group, have worked with MOGA, the TGA, PBAC, Department of Health and Ageing and AstraZeneca, to enact this change.  Education and professional education Plans are well advanced for the 2016 Australia and Asia Pacific Clinical Oncology Research Development Workshop (ACORD): 11-17 September. Applications have been reviewed and participants offered places on this career enhancing program ( acord.org.au ). Communication Skills for Early Career Oncologists, a new program developed by the Young Oncologist Group of Australia (YOGA) was held in April. This program included a series of workplace related role plays with trained actors and related plenary sessions on burnout, mindfulness and other communications’ challenges, that could assist medical oncologists in day-to-day clinical practice. Dr George Au-Yeung, YOGA President, reports: “Good communication is core to our profession as medical oncologists. This innovative educational initiative provided young oncologists with a challenging and valuable learning opportunity that helped build their professional communications skills.” The MOGA Annual Scientific Meeting – Implementation + Innovation in Immunotherapy – will be held on the Gold Coast (3-5 August). Immunotherapy has become an increasingly important therapeutic strategy for cancer patients and medical oncologists, with clinical trials demonstrating significant clinical advantages in an array of cancer streams. Convenor, Prof Ken O’ Byrne, is planning a scientific program that will focus on innovative approaches to implementing immunotherapy in practice, including a major immuno-oncology forum convened by Prof Grant MacArthur and Dr Alexander Menzies. Prof Justin Stebbing, from the Imperial College in London, will present the keynote address at the meeting to share his insights on the future of medical oncology.'"
            ]
          },
          "metadata": {
            "tags": []
          },
          "execution_count": 9
        }
      ]
    },
    {
      "cell_type": "code",
      "metadata": {
        "id": "JaKQP3XfCZh0",
        "colab_type": "code",
        "colab": {
          "base_uri": "https://localhost:8080/",
          "height": 87
        },
        "outputId": "f1ade8cb-946f-42ef-b123-524890fc63cf"
      },
      "source": [
        "%%time\n",
        "\n",
        "parsed_review=nlp(sample_review)\n",
        "print(parsed_review)"
      ],
      "execution_count": 10,
      "outputs": [
        {
          "output_type": "stream",
          "text": [
            "The first quarter of 2016 has been a busy period for the Medical Oncology Group of Australia. A new group of trainees has commenced speciality training in medical oncology and those trainees who recently completed their training, have been awarded fellowships and are moving ahead with their career plans. MOGA membership continues to grow and currently there are 172 trainees and 450 consultant members. Dr Zarnie Lwin, Deputy Chair and I have been progressing the new Workforce Study, having completed a pilot project in late 2015. An extensive online survey will be distributed to all MOGA members in the coming months to gather important new data on our workforce to assist with long term services, facilities and workforce planning.  Oncology drugs and treatments The Oncology Drugs Group, Chaired by Dr Deme Karikios, continues to make good progress in advocating for access to oncology drugs, recording a number of notable achievements. Late in 2015, in response to advice from MOGA breast cancer experts, the Pharmaceutical Benefits Advisory Committee (PBAC) amended the Pharmaceutical Benefits Schedule listing of medicines for HER2 positive metastatic breast cancer and recommended a change to the listing of lapatinib for HER2 positive metastatic breast cancer. The restriction for trastuzumab emtansine will be amended to allow patients to access following treatment with lapatinib. PBAC also recommended that the restriction wording for nab­ paclitaxel be updated to be consistent with the restriction for trastuzumab. The group has also made submissions for priority approvals for a number of oncology drugs considered at the PBAC March meeting, including: nivolumab in non-small cell lung cancer; bevacizumab in cervical cancer; lenvatinib in thyroid cancer; olaparib in ovarian cancer; and tamoxifen in breast cancer prevention. At the same time, the group indicated support for submissions on: cetuximab in metastatic head and neck cancer; nintedanib in non-small cell lung cancer; and vismodegib in basal cell carcinoma. These listings will address important areas of unmet need for cancer patients, those at increased risk of cancer, and their clinicians. The listings are supported by strong randomised clinical trial data and are in keeping with international clinical best practice. A successful submission supporting the change to the listing for tamoxifen for the primary prevention of breast cancer in patients with moderate or high risk has resulted from a unique collaboration. In 2011, MOGA tabled a position paper prepared by leading Australian breast cancer specialist, Prof Kelly-Anne Phillips – ‘The use of tamoxifen for the prevention of breast cancer: implications of recent research’. This paper presented strong research data supporting approval and listing of tamoxifen through the Therapeutics Goods Administration and the PBAC and its placement on the Pharmaceutical Benefits Scheme for reduction in the risk of invasive breast cancer in women at moderate or high risk. Since then, Prof Phillips and Prof Fran Boyle, Chair, MOGA Breast Cancer Group and ANZ Breast Cancer Trials Group, have worked with MOGA, the TGA, PBAC, Department of Health and Ageing and AstraZeneca, to enact this change.  Education and professional education Plans are well advanced for the 2016 Australia and Asia Pacific Clinical Oncology Research Development Workshop (ACORD): 11-17 September. Applications have been reviewed and participants offered places on this career enhancing program ( acord.org.au ). Communication Skills for Early Career Oncologists, a new program developed by the Young Oncologist Group of Australia (YOGA) was held in April. This program included a series of workplace related role plays with trained actors and related plenary sessions on burnout, mindfulness and other communications’ challenges, that could assist medical oncologists in day-to-day clinical practice. Dr George Au-Yeung, YOGA President, reports: “Good communication is core to our profession as medical oncologists. This innovative educational initiative provided young oncologists with a challenging and valuable learning opportunity that helped build their professional communications skills.” The MOGA Annual Scientific Meeting – Implementation + Innovation in Immunotherapy – will be held on the Gold Coast (3-5 August). Immunotherapy has become an increasingly important therapeutic strategy for cancer patients and medical oncologists, with clinical trials demonstrating significant clinical advantages in an array of cancer streams. Convenor, Prof Ken O’ Byrne, is planning a scientific program that will focus on innovative approaches to implementing immunotherapy in practice, including a major immuno-oncology forum convened by Prof Grant MacArthur and Dr Alexander Menzies. Prof Justin Stebbing, from the Imperial College in London, will present the keynote address at the meeting to share his insights on the future of medical oncology.\n",
            "CPU times: user 146 ms, sys: 3.71 ms, total: 150 ms\n",
            "Wall time: 168 ms\n"
          ],
          "name": "stdout"
        }
      ]
    },
    {
      "cell_type": "code",
      "metadata": {
        "id": "O4Iog04rCZfM",
        "colab_type": "code",
        "colab": {
          "base_uri": "https://localhost:8080/",
          "height": 1000
        },
        "outputId": "f0103e76-b46f-4555-c4f7-d7e641c63c15"
      },
      "source": [
        "for num,sentence in enumerate(parsed_review.sents):\n",
        "  print('Sentence {}:'.format(num+1))\n",
        "  print(sentence)\n",
        "  print('')"
      ],
      "execution_count": 11,
      "outputs": [
        {
          "output_type": "stream",
          "text": [
            "Sentence 1:\n",
            "The first quarter of 2016 has been a busy period for the Medical Oncology Group of Australia.\n",
            "\n",
            "Sentence 2:\n",
            "A new group of trainees has commenced speciality training in medical oncology and those trainees who recently completed their training, have been awarded fellowships and are moving ahead with their career plans.\n",
            "\n",
            "Sentence 3:\n",
            "MOGA membership continues to grow and currently there are 172 trainees and 450 consultant members.\n",
            "\n",
            "Sentence 4:\n",
            "Dr Zarnie Lwin, Deputy Chair and I have been progressing the new Workforce Study, having completed a pilot project in late 2015.\n",
            "\n",
            "Sentence 5:\n",
            "An extensive online survey will be distributed to all MOGA members in the coming months to gather important new data on our workforce to assist with long term services, facilities and workforce planning.  \n",
            "\n",
            "Sentence 6:\n",
            "Oncology drugs and treatments\n",
            "\n",
            "Sentence 7:\n",
            "The Oncology Drugs Group, Chaired by Dr Deme Karikios, continues to make good progress in advocating for access to oncology drugs, recording a number of notable achievements.\n",
            "\n",
            "Sentence 8:\n",
            "Late in 2015, in response to advice from MOGA breast cancer experts, the Pharmaceutical Benefits Advisory Committee (PBAC) amended the Pharmaceutical Benefits Schedule listing of medicines for HER2 positive metastatic breast cancer and recommended a change to the listing of lapatinib for HER2 positive metastatic breast cancer.\n",
            "\n",
            "Sentence 9:\n",
            "The restriction for trastuzumab emtansine will be amended to allow patients to access following treatment with lapatinib.\n",
            "\n",
            "Sentence 10:\n",
            "PBAC also recommended that the restriction wording for nab­ paclitaxel be updated to be consistent with the restriction for trastuzumab.\n",
            "\n",
            "Sentence 11:\n",
            "The group has also made submissions for priority approvals for a number of oncology drugs considered at the PBAC March meeting, including: nivolumab in non-small cell lung cancer; bevacizumab in cervical cancer; lenvatinib in thyroid cancer; olaparib in ovarian cancer; and tamoxifen in breast cancer prevention.\n",
            "\n",
            "Sentence 12:\n",
            "At the same time, the group indicated support for submissions on: cetuximab in metastatic head and neck cancer; nintedanib in non-small cell lung cancer; and vismodegib in basal cell carcinoma.\n",
            "\n",
            "Sentence 13:\n",
            "These listings will address important areas of unmet need for cancer patients, those at increased risk of cancer, and their clinicians.\n",
            "\n",
            "Sentence 14:\n",
            "The listings are supported by strong randomised clinical trial data and are in keeping with international clinical best practice.\n",
            "\n",
            "Sentence 15:\n",
            "A successful submission supporting the change to the listing for tamoxifen for the primary prevention of breast cancer in patients with moderate or high risk has resulted from a unique collaboration.\n",
            "\n",
            "Sentence 16:\n",
            "In 2011, MOGA tabled a position paper prepared by leading Australian breast cancer specialist, Prof Kelly-Anne Phillips –\n",
            "\n",
            "Sentence 17:\n",
            "‘\n",
            "\n",
            "Sentence 18:\n",
            "The use of tamoxifen for the prevention of breast cancer: implications of recent research’.\n",
            "\n",
            "Sentence 19:\n",
            "This paper presented strong research data supporting approval and listing of tamoxifen through the Therapeutics Goods Administration and the PBAC and its placement on the Pharmaceutical Benefits Scheme for reduction in the risk of invasive breast cancer in women at moderate or high risk.\n",
            "\n",
            "Sentence 20:\n",
            "Since then, Prof Phillips and Prof Fran Boyle, Chair, MOGA Breast Cancer Group and ANZ Breast Cancer Trials Group, have worked with MOGA, the TGA, PBAC, Department of Health and Ageing and AstraZeneca, to enact this change.  \n",
            "\n",
            "Sentence 21:\n",
            "Education and professional education Plans are well advanced for the 2016 Australia and Asia Pacific Clinical Oncology Research Development Workshop (ACORD): 11-17 September.\n",
            "\n",
            "Sentence 22:\n",
            "Applications have been reviewed and participants offered places on this career enhancing program ( acord.org.au ).\n",
            "\n",
            "Sentence 23:\n",
            "Communication Skills for Early Career Oncologists, a new program developed by the Young Oncologist Group of Australia (YOGA) was held in April.\n",
            "\n",
            "Sentence 24:\n",
            "This program included a series of workplace related role plays with trained actors and related plenary sessions on burnout, mindfulness and other communications’ challenges, that could assist medical oncologists in day-to-day clinical practice.\n",
            "\n",
            "Sentence 25:\n",
            "Dr George Au-Yeung, YOGA President, reports:\n",
            "\n",
            "Sentence 26:\n",
            "“\n",
            "\n",
            "Sentence 27:\n",
            "Good communication is core to our profession as medical oncologists.\n",
            "\n",
            "Sentence 28:\n",
            "This innovative educational initiative provided young oncologists with a challenging and valuable learning opportunity that helped build their professional communications skills.\n",
            "\n",
            "Sentence 29:\n",
            "”\n",
            "\n",
            "Sentence 30:\n",
            "The MOGA Annual Scientific Meeting\n",
            "\n",
            "Sentence 31:\n",
            "– Implementation + Innovation in Immunotherapy – will be held on the Gold Coast (3-5 August).\n",
            "\n",
            "Sentence 32:\n",
            "Immunotherapy has become an increasingly important therapeutic strategy for cancer patients and medical oncologists, with clinical trials demonstrating significant clinical advantages in an array of cancer streams.\n",
            "\n",
            "Sentence 33:\n",
            "Convenor, Prof Ken O’ Byrne, is planning a scientific program that will focus on innovative approaches to implementing immunotherapy in practice, including a major immuno-oncology forum convened by Prof Grant MacArthur and Dr Alexander Menzies.\n",
            "\n",
            "Sentence 34:\n",
            "Prof Justin Stebbing, from the Imperial College in London, will present the keynote address at the meeting to share his insights on the future of medical oncology.\n",
            "\n"
          ],
          "name": "stdout"
        }
      ]
    },
    {
      "cell_type": "code",
      "metadata": {
        "id": "VBbH6_uqCZcS",
        "colab_type": "code",
        "colab": {
          "base_uri": "https://localhost:8080/",
          "height": 1000
        },
        "outputId": "50b1af92-62d6-45d8-bc78-7d022f4d888f"
      },
      "source": [
        "for num,entity in enumerate(parsed_review.ents):\n",
        "  print('Entity {}:'.format(num+1), entity,'-',entity.label_)\n",
        "  print('')"
      ],
      "execution_count": 12,
      "outputs": [
        {
          "output_type": "stream",
          "text": [
            "Entity 1: The first quarter of - DATE\n",
            "\n",
            "Entity 2: the Medical Oncology Group - ORG\n",
            "\n",
            "Entity 3: Australia - GPE\n",
            "\n",
            "Entity 4: MOGA - ORG\n",
            "\n",
            "Entity 5: 172 - CARDINAL\n",
            "\n",
            "Entity 6: 450 - CARDINAL\n",
            "\n",
            "Entity 7: Zarnie Lwin - PERSON\n",
            "\n",
            "Entity 8: Chair - PERSON\n",
            "\n",
            "Entity 9: late 2015 - DATE\n",
            "\n",
            "Entity 10: MOGA - ORG\n",
            "\n",
            "Entity 11: the coming months - DATE\n",
            "\n",
            "Entity 12: The Oncology Drugs Group - ORG\n",
            "\n",
            "Entity 13: Deme Karikios - PERSON\n",
            "\n",
            "Entity 14: 2015 - DATE\n",
            "\n",
            "Entity 15: MOGA - ORG\n",
            "\n",
            "Entity 16: the Pharmaceutical Benefits Advisory Committee - ORG\n",
            "\n",
            "Entity 17: PBAC - ORG\n",
            "\n",
            "Entity 18: the Pharmaceutical Benefits Schedule - LAW\n",
            "\n",
            "Entity 19: PBAC - PERSON\n",
            "\n",
            "Entity 20: March - DATE\n",
            "\n",
            "Entity 21: 2011 - DATE\n",
            "\n",
            "Entity 22: MOGA - ORG\n",
            "\n",
            "Entity 23: Australian - NORP\n",
            "\n",
            "Entity 24: Kelly-Anne - PERSON\n",
            "\n",
            "Entity 25: the Therapeutics Goods Administration - ORG\n",
            "\n",
            "Entity 26: PBAC - ORG\n",
            "\n",
            "Entity 27: the Pharmaceutical Benefits Scheme - LOC\n",
            "\n",
            "Entity 28: Phillips - PERSON\n",
            "\n",
            "Entity 29: Chair - ORG\n",
            "\n",
            "Entity 30: MOGA Breast Cancer Group - ORG\n",
            "\n",
            "Entity 31: ANZ Breast Cancer Trials Group - ORG\n",
            "\n",
            "Entity 32: MOGA - ORG\n",
            "\n",
            "Entity 33: TGA - ORG\n",
            "\n",
            "Entity 34: PBAC - ORG\n",
            "\n",
            "Entity 35: Department of Health and Ageing - ORG\n",
            "\n",
            "Entity 36: AstraZeneca - ORG\n",
            "\n",
            "Entity 37: 2016 - DATE\n",
            "\n",
            "Entity 38: Australia - GPE\n",
            "\n",
            "Entity 39: Asia Pacific Clinical Oncology Research Development Workshop - ORG\n",
            "\n",
            "Entity 40: ACORD - ORG\n",
            "\n",
            "Entity 41: 11 - CARDINAL\n",
            "\n",
            "Entity 42: the Young Oncologist Group - ORG\n",
            "\n",
            "Entity 43: Australia - GPE\n",
            "\n",
            "Entity 44: YOGA - ORG\n",
            "\n",
            "Entity 45: April - DATE\n",
            "\n",
            "Entity 46: George Au-Yeung - PERSON\n",
            "\n",
            "Entity 47: YOGA - ORG\n",
            "\n",
            "Entity 48: The MOGA Annual Scientific Meeting - WORK_OF_ART\n",
            "\n",
            "Entity 49: Immunotherapy - GPE\n",
            "\n",
            "Entity 50: the Gold Coast - LOC\n",
            "\n",
            "Entity 51: August - DATE\n",
            "\n",
            "Entity 52: Convenor - GPE\n",
            "\n",
            "Entity 53: Byrne - PERSON\n",
            "\n",
            "Entity 54: Alexander Menzies - PERSON\n",
            "\n",
            "Entity 55: Justin Stebbing - PERSON\n",
            "\n",
            "Entity 56: the Imperial College - ORG\n",
            "\n",
            "Entity 57: London - GPE\n",
            "\n"
          ],
          "name": "stdout"
        }
      ]
    },
    {
      "cell_type": "code",
      "metadata": {
        "id": "nRPkJMPUCZZH",
        "colab_type": "code",
        "colab": {}
      },
      "source": [
        ""
      ],
      "execution_count": 0,
      "outputs": []
    },
    {
      "cell_type": "code",
      "metadata": {
        "id": "ntevGgWAC-_C",
        "colab_type": "code",
        "colab": {}
      },
      "source": [
        ""
      ],
      "execution_count": 0,
      "outputs": []
    },
    {
      "cell_type": "code",
      "metadata": {
        "id": "iRolk6-QC-5S",
        "colab_type": "code",
        "colab": {}
      },
      "source": [
        ""
      ],
      "execution_count": 0,
      "outputs": []
    },
    {
      "cell_type": "code",
      "metadata": {
        "id": "y-3C9dexC-2K",
        "colab_type": "code",
        "colab": {}
      },
      "source": [
        ""
      ],
      "execution_count": 0,
      "outputs": []
    },
    {
      "cell_type": "code",
      "metadata": {
        "id": "VaY2oQmQC-zS",
        "colab_type": "code",
        "colab": {}
      },
      "source": [
        ""
      ],
      "execution_count": 0,
      "outputs": []
    },
    {
      "cell_type": "code",
      "metadata": {
        "id": "A3AXHAT2C-wU",
        "colab_type": "code",
        "colab": {}
      },
      "source": [
        ""
      ],
      "execution_count": 0,
      "outputs": []
    },
    {
      "cell_type": "code",
      "metadata": {
        "id": "UHoVyYifC-tb",
        "colab_type": "code",
        "colab": {}
      },
      "source": [
        ""
      ],
      "execution_count": 0,
      "outputs": []
    },
    {
      "cell_type": "code",
      "metadata": {
        "id": "vXfJCboyC-jq",
        "colab_type": "code",
        "colab": {}
      },
      "source": [
        ""
      ],
      "execution_count": 0,
      "outputs": []
    },
    {
      "cell_type": "code",
      "metadata": {
        "id": "O9T7DNdtC-gS",
        "colab_type": "code",
        "colab": {}
      },
      "source": [
        ""
      ],
      "execution_count": 0,
      "outputs": []
    },
    {
      "cell_type": "code",
      "metadata": {
        "id": "rCEcq3dBC-dC",
        "colab_type": "code",
        "colab": {}
      },
      "source": [
        ""
      ],
      "execution_count": 0,
      "outputs": []
    },
    {
      "cell_type": "markdown",
      "metadata": {
        "id": "dtxD4LE6DQOi",
        "colab_type": "text"
      },
      "source": [
        "**old**"
      ]
    },
    {
      "cell_type": "code",
      "metadata": {
        "id": "3OCmEmoQC-Wk",
        "colab_type": "code",
        "colab": {}
      },
      "source": [
        "# len(train.drug.value_counts())\n",
        "# len(test.drug.value_counts())\n",
        "# train_drug=list(train.drug.unique())\n",
        "# test_drug=list(test.drug.unique())\n",
        "# set(test_drug).difference(train_drug)\n",
        "# set(train_drug).difference(test_drug)\n",
        "# X=train.text\n",
        "# y=train.sentiment\n",
        "# print(X.shape)\n",
        "# print(y.shape)\n",
        "# # split X and y into training and testing sets\n",
        "# from sklearn.model_selection import train_test_split\n",
        "# X_train, X_test, y_train, y_test = train_test_split(X, y, random_state=1)\n",
        "# print(X_train.shape)\n",
        "# print(X_test.shape)\n",
        "# print(y_train.shape)\n",
        "# print(y_test.shape)\n",
        "\n",
        "# # instantiate the vectorizer\n",
        "# vect = CountVectorizer(stop_words='english',ngram_range=(1,3),max_df=0.5,min_df=2)\n",
        "# # learn training data vocabulary, then use it to create a document-term matrix\n",
        "# vect.fit(X_train)\n",
        "# X_train_dtm = vect.transform(X_train)\n",
        "# # examine the document-term matrix\n",
        "# X_train_dtm\n",
        "\n",
        "# # transform testing data (using fitted vocabulary) into a document-term matrix\n",
        "# X_test_dtm = vect.transform(X_test)\n",
        "# X_test_dtm\n",
        "\n",
        "# # import and instantiate a Multinomial Naive Bayes model\n",
        "# from sklearn.naive_bayes import MultinomialNB\n",
        "# nb = MultinomialNB()\n",
        "\n",
        "# # train the model using X_train_dtm (timing it with an IPython \"magic command\")\n",
        "# %time nb.fit(X_train_dtm, y_train)\n",
        "\n",
        "# # make class predictions for X_test_dtm\n",
        "# y_pred_class = nb.predict(X_test_dtm)\n",
        "\n",
        "\n",
        "# # calculate accuracy of class predictions\n",
        "# from sklearn import metrics\n",
        "# metrics.accuracy_score(y_test, y_pred_class)\n",
        "\n",
        "\n",
        "# # print the confusion matrix\n",
        "# metrics.confusion_matrix(y_test, y_pred_class)\n",
        "\n",
        "\n",
        "# # show default parameters for CountVectorizer\n",
        "# vect"
      ],
      "execution_count": 0,
      "outputs": []
    }
  ]
}